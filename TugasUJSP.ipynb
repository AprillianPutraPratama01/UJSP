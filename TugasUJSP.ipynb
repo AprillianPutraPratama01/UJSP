{
  "nbformat": 4,
  "nbformat_minor": 0,
  "metadata": {
    "colab": {
      "private_outputs": true,
      "provenance": [],
      "mount_file_id": "1t82z6lGutAYSUS53MKENSLFhq9y59EUL",
      "authorship_tag": "ABX9TyMQ94zYh3POwc0x4bCWmTlY",
      "include_colab_link": true
    },
    "kernelspec": {
      "name": "python3",
      "display_name": "Python 3"
    },
    "language_info": {
      "name": "python"
    }
  },
  "cells": [
    {
      "cell_type": "markdown",
      "metadata": {
        "id": "view-in-github",
        "colab_type": "text"
      },
      "source": [
        "<a href=\"https://colab.research.google.com/github/AprillianPutraPratama01/UJSP/blob/main/TugasUJSP.ipynb\" target=\"_parent\"><img src=\"https://colab.research.google.com/assets/colab-badge.svg\" alt=\"Open In Colab\"/></a>"
      ]
    },
    {
      "cell_type": "code",
      "execution_count": null,
      "metadata": {
        "id": "5sizrU9xaRt9"
      },
      "outputs": [],
      "source": [
        "# Import library yang dibutuhkan\n",
        "import pandas as pd\n",
        "import numpy as np\n",
        "import matplotlib.pyplot as plt\n",
        "import seaborn as sns\n",
        "from sklearn.preprocessing import LabelEncoder\n",
        "from sklearn.model_selection import train_test_split\n",
        "from sklearn.linear_model import LogisticRegression\n",
        "from sklearn.ensemble import RandomForestClassifier\n",
        "from sklearn.ensemble import GradientBoostingClassifier\n",
        "from sklearn.metrics import confusion_matrix, classification_report\n",
        "import pickle\n",
        "from pathlib import Path"
      ]
    },
    {
      "cell_type": "code",
      "source": [
        "# Import dataset\n",
        "df_load = pd.read_csv(\"/content/drive/MyDrive/UJSP/WA_Fn-UseC_-Telco-Customer-Churn.csv\")\n",
        "\n",
        "# Tampilkan bentuk dari dataset\n",
        "print(df_load.shape)\n",
        "\n",
        "# Tampilkan 5 data teratas\n",
        "print(df_load.head())\n",
        "\n",
        "# Tampilkan jumlah ID yang unik\n",
        "print(df_load.customerID.nunique())\n"
      ],
      "metadata": {
        "id": "iJo7QotPaYeg"
      },
      "execution_count": null,
      "outputs": []
    },
    {
      "cell_type": "code",
      "source": [
        "# Import matplotlib dan seaborn\n",
        "import matplotlib.pyplot as plt\n",
        "import seaborn as sns"
      ],
      "metadata": {
        "id": "vN_j1FLkaifx"
      },
      "execution_count": null,
      "outputs": []
    },
    {
      "cell_type": "code",
      "source": [
        "from matplotlib import pyplot as plt\n",
        "import numpy as np\n",
        "\n",
        "# Membuat figure\n",
        "fig = plt.figure()\n",
        "ax = fig.add_axes([0,0,1,1])\n",
        "ax.axis('equal')  # Membuat tampilan pie chart menjadi lingkaran\n",
        "\n",
        "# Label untuk pie chart\n",
        "labels = ['Yes', 'No']\n",
        "\n",
        "# Menghitung jumlah nilai pada kolom 'Churn'\n",
        "churn = df_load.Churn.value_counts()\n",
        "\n",
        "# Membuat pie chart\n",
        "ax.pie(churn, labels=labels, autopct='%.0f%%')\n",
        "\n",
        "# Menampilkan pie chart\n",
        "plt.show()"
      ],
      "metadata": {
        "id": "h7CL-UKgamzA"
      },
      "execution_count": null,
      "outputs": []
    },
    {
      "cell_type": "code",
      "source": [
        "# Visualisasi variabel numerik\n",
        "num_cols = ['tenure', 'MonthlyCharges', 'TotalCharges']\n",
        "fig, axes = plt.subplots(1, 3, figsize=(15, 5))\n",
        "for i, col in enumerate(num_cols):\n",
        "    # Use df_load instead of df to access the DataFrame\n",
        "    sns.boxplot(y=df_load[col], x=df_load['Churn'], ax=axes[i])\n",
        "    axes[i].set_title(f'{col} vs Churn')\n",
        "plt.tight_layout()\n",
        "plt.show()"
      ],
      "metadata": {
        "id": "E6dQurfOarcU"
      },
      "execution_count": null,
      "outputs": []
    },
    {
      "cell_type": "code",
      "source": [
        "from matplotlib import pyplot as plt\n",
        "import numpy as np\n",
        "import seaborn as sns\n",
        "\n",
        "# Mengatur gaya seaborn\n",
        "sns.set(style='darkgrid')\n",
        "\n",
        "# Membuat subplot dengan 3 baris dan 3 kolom\n",
        "fig, ax = plt.subplots(3, 3, figsize=(14, 12))\n",
        "\n",
        "# Membuat countplot untuk setiap variabel kategorik dengan hue 'Churn'\n",
        "sns.countplot(data=df_load, x='gender', hue='Churn', ax=ax[0][0])\n",
        "sns.countplot(data=df_load, x='Partner', hue='Churn', ax=ax[0][1])\n",
        "sns.countplot(data=df_load, x='SeniorCitizen', hue='Churn', ax=ax[0][2])\n",
        "sns.countplot(data=df_load, x='PhoneService', hue='Churn', ax=ax[1][0])\n",
        "sns.countplot(data=df_load, x='StreamingTV', hue='Churn', ax=ax[1][1])\n",
        "sns.countplot(data=df_load, x='InternetService', hue='Churn', ax=ax[1][2])\n",
        "sns.countplot(data=df_load, x='PaperlessBilling', hue='Churn', ax=ax[2][1])\n",
        "\n",
        "# Menyesuaikan tata letak agar tidak saling tumpang tindih\n",
        "plt.tight_layout()\n",
        "\n",
        "# Menampilkan plot\n",
        "plt.show()"
      ],
      "metadata": {
        "id": "npDZkgmxavUL"
      },
      "execution_count": null,
      "outputs": []
    },
    {
      "cell_type": "code",
      "source": [
        "# Remove the unnecessary columns customerID & UpdatedAt\n",
        "cleaned_df = df_load.drop(['customerID'], axis=1)\n",
        "print(cleaned_df.head())"
      ],
      "metadata": {
        "id": "478NKxO3azOA"
      },
      "execution_count": null,
      "outputs": []
    },
    {
      "cell_type": "code",
      "source": [
        "from sklearn.preprocessing import LabelEncoder\n",
        "\n",
        "# Convert all the non-numeric columns to numerical data types\n",
        "for column in cleaned_df.columns:\n",
        "    if cleaned_df[column].dtype == np.number: continue\n",
        "    # Perform encoding for each non-numeric column\n",
        "    cleaned_df[column] = LabelEncoder().fit_transform(cleaned_df[column])\n",
        "\n",
        "print(cleaned_df.describe())"
      ],
      "metadata": {
        "id": "mUVoqgD1a3Gd"
      },
      "execution_count": null,
      "outputs": []
    },
    {
      "cell_type": "code",
      "source": [
        "from sklearn.model_selection import train_test_split\n",
        "\n",
        "# Predictor dan target\n",
        "X = cleaned_df.drop('Churn', axis=1)\n",
        "y = cleaned_df['Churn']\n",
        "\n",
        "# Splitting train and test\n",
        "x_train, x_test, y_train, y_test = train_test_split(X, y, test_size=0.3, random_state=42)\n",
        "\n",
        "# Print according to the expected result\n",
        "print('Jumlah baris dan kolom dari x_train adalah:', x_train.shape,\n",
        "      ', sedangkan Jumlah baris dan kolom dari y_train adalah:', y_train.shape)\n",
        "\n",
        "print('Prosentase Churn di data Training adalah:')\n",
        "print(y_train.value_counts(normalize=True))\n",
        "\n",
        "print('Jumlah baris dan kolom dari x_test adalah:', x_test.shape,\n",
        "      ', sedangkan Jumlah baris dan kolom dari y_test adalah:', y_test.shape)\n",
        "\n",
        "print('Prosentase Churn di data Testing adalah:')\n",
        "print(y_test.value_counts(normalize=True))"
      ],
      "metadata": {
        "id": "GVkd7KIda7J2"
      },
      "execution_count": null,
      "outputs": []
    },
    {
      "cell_type": "code",
      "source": [
        "from sklearn.linear_model import LogisticRegression\n",
        "\n",
        "# Inisialisasi model\n",
        "log_model = LogisticRegression()\n",
        "\n",
        "# Melatih model dengan data train\n",
        "log_model.fit(x_train, y_train)  # Menggunakan x_train sebagai data training"
      ],
      "metadata": {
        "id": "fjk-ODT0bAWf"
      },
      "execution_count": null,
      "outputs": []
    },
    {
      "cell_type": "code",
      "source": [
        "# prompt: tampilkan confusion matrixnya\n",
        "\n",
        "import matplotlib.pyplot as plt\n",
        "# Predict the model using the test data\n",
        "y_pred = log_model.predict(x_test)\n",
        "\n",
        "# Create a confusion matrix\n",
        "cm = confusion_matrix(y_test, y_pred)\n",
        "\n",
        "# Display the confusion matrix using seaborn\n",
        "sns.heatmap(cm, annot=True, fmt='d', cmap='Blues')\n",
        "plt.xlabel('Predicted')\n",
        "plt.ylabel('Actual')\n",
        "plt.title('Confusion Matrix')\n",
        "plt.show()"
      ],
      "metadata": {
        "id": "kbuFq0jjbIjt"
      },
      "execution_count": null,
      "outputs": []
    },
    {
      "cell_type": "code",
      "source": [
        "# prompt: tampilkan akurasinya\n",
        "\n",
        "# Print classification report to show precision, recall, F1-score, and accuracy\n",
        "print(classification_report(y_test, y_pred))"
      ],
      "metadata": {
        "id": "n5l6g7SBbJkV"
      },
      "execution_count": null,
      "outputs": []
    }
  ]
}